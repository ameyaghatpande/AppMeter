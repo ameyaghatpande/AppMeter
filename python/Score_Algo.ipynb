{
 "cells": [
  {
   "cell_type": "code",
   "execution_count": 2,
   "metadata": {
    "collapsed": true
   },
   "outputs": [],
   "source": [
    "import pandas as pd\n",
    "import matplotlib.pyplot as plt\n",
    "import plotly.plotly as py\n",
    "import numpy as np"
   ]
  },
  {
   "cell_type": "code",
   "execution_count": 3,
   "metadata": {
    "collapsed": false
   },
   "outputs": [],
   "source": [
    "df = pd.read_csv(\"clean_android_genre.csv\")"
   ]
  },
  {
   "cell_type": "code",
   "execution_count": 21,
   "metadata": {
    "collapsed": false
   },
   "outputs": [
    {
     "data": {
      "text/plain": [
       "age                   int64\n",
       "all_rating          float64\n",
       "all_rating_count      int64\n",
       "app_name             object\n",
       "bundle_id            object\n",
       "date                 object\n",
       "downloads             int64\n",
       "epoch_date            int64\n",
       "file_size           float64\n",
       "genre                object\n",
       "icon_url             object\n",
       "mod_genre            object\n",
       "price               float64\n",
       "price1              float64\n",
       "Downloads           float64\n",
       "Size                float64\n",
       "Price               float64\n",
       "AvgR                float64\n",
       "Raters              float64\n",
       "age_yr              float64\n",
       "stars               float64\n",
       "Stars               float64\n",
       "Age                 float64\n",
       "wom                 float64\n",
       "d_a                 float64\n",
       "dtype: object"
      ]
     },
     "execution_count": 21,
     "metadata": {},
     "output_type": "execute_result"
    }
   ],
   "source": [
    "df.dtypes"
   ]
  },
  {
   "cell_type": "code",
   "execution_count": 4,
   "metadata": {
    "collapsed": false
   },
   "outputs": [
    {
     "data": {
      "text/plain": [
       "476598"
      ]
     },
     "execution_count": 4,
     "metadata": {},
     "output_type": "execute_result"
    }
   ],
   "source": [
    "len(df)"
   ]
  },
  {
   "cell_type": "markdown",
   "metadata": {},
   "source": [
    "Log Function"
   ]
  },
  {
   "cell_type": "code",
   "execution_count": 5,
   "metadata": {
    "collapsed": true
   },
   "outputs": [],
   "source": [
    "#Change the table values to log values\n",
    "import math\n",
    "def toLog(x):\n",
    "    y = x\n",
    "    if x == 0:\n",
    "        y = 0.1\n",
    "    return math.log(y)"
   ]
  },
  {
   "cell_type": "markdown",
   "metadata": {},
   "source": [
    "Converting free apps to 0.001"
   ]
  },
  {
   "cell_type": "code",
   "execution_count": 6,
   "metadata": {
    "collapsed": true
   },
   "outputs": [],
   "source": [
    "def convertFree(x):\n",
    "    if x == 0:\n",
    "        x = 0.001\n",
    "    return x"
   ]
  },
  {
   "cell_type": "code",
   "execution_count": 7,
   "metadata": {
    "collapsed": false
   },
   "outputs": [],
   "source": [
    "df[\"price1\"]=df.price.apply(convertFree)"
   ]
  },
  {
   "cell_type": "markdown",
   "metadata": {},
   "source": [
    "Creating new columns"
   ]
  },
  {
   "cell_type": "code",
   "execution_count": 8,
   "metadata": {
    "collapsed": false
   },
   "outputs": [],
   "source": [
    "df[\"Downloads\"] = df.downloads.apply(toLog)\n",
    "df[\"Size\"] = df.file_size.apply(toLog)\n",
    "df[\"Price\"] = df.price1.apply(toLog)\n",
    "df[\"AvgR\"] = df.all_rating.apply(toLog)\n",
    "df[\"Raters\"] = df.all_rating_count.apply(toLog)"
   ]
  },
  {
   "cell_type": "code",
   "execution_count": 10,
   "metadata": {
    "collapsed": true
   },
   "outputs": [],
   "source": [
    "df[\"stars\"]=(df[\"all_rating_count\"]*df[\"all_rating\"])"
   ]
  },
  {
   "cell_type": "code",
   "execution_count": 11,
   "metadata": {
    "collapsed": false
   },
   "outputs": [],
   "source": [
    "df[\"Stars\"] = df.stars.apply(toLog)\n",
    "df[\"Age\"] = df.age.apply(toLog)"
   ]
  },
  {
   "cell_type": "code",
   "execution_count": 12,
   "metadata": {
    "collapsed": false
   },
   "outputs": [],
   "source": [
    "df[\"age_yr\"]=df[\"age\"]/365\n",
    "df[\"wom\"]= df[\"Stars\"]/df[\"Age\"]\n",
    "df[\"d_a\"]=df[\"Downloads\"]/df[\"Age\"]"
   ]
  },
  {
   "cell_type": "code",
   "execution_count": 23,
   "metadata": {
    "collapsed": false
   },
   "outputs": [
    {
     "data": {
      "text/plain": [
       "array(['Social Networking', 'Entertainment', 'Shopping', 'Games',\n",
       "       'Photo & Video', 'Education', 'Health & Fitness', 'Lifestyle',\n",
       "       'Books & Reference', 'Productivity', 'Utilities', 'Business',\n",
       "       'News', 'Travel', 'Medical', 'Music', 'Sports', 'Finance',\n",
       "       'Navigation', 'Weather'], dtype=object)"
      ]
     },
     "execution_count": 23,
     "metadata": {},
     "output_type": "execute_result"
    }
   ],
   "source": [
    "df.mod_genre.unique()"
   ]
  },
  {
   "cell_type": "code",
   "execution_count": 24,
   "metadata": {
    "collapsed": true
   },
   "outputs": [],
   "source": [
    "#df[\"D_A\"] = df.d_a.apply(toLog)"
   ]
  },
  {
   "cell_type": "code",
   "execution_count": 25,
   "metadata": {
    "collapsed": false
   },
   "outputs": [],
   "source": [
    "dfpaid = df[df.price > 0]"
   ]
  },
  {
   "cell_type": "markdown",
   "metadata": {},
   "source": [
    "Genre : Games"
   ]
  },
  {
   "cell_type": "code",
   "execution_count": 26,
   "metadata": {
    "collapsed": true
   },
   "outputs": [],
   "source": [
    "dfw = df[df.mod_genre=='Weather']"
   ]
  },
  {
   "cell_type": "code",
   "execution_count": 27,
   "metadata": {
    "collapsed": false
   },
   "outputs": [
    {
     "name": "stderr",
     "output_type": "stream",
     "text": [
      "C:\\Users\\LENOVO\\AppData\\Local\\Enthought\\Canopy\\User\\lib\\site-packages\\ipykernel\\__main__.py:1: SettingWithCopyWarning:\n",
      "\n",
      "\n",
      "A value is trying to be set on a copy of a slice from a DataFrame.\n",
      "Try using .loc[row_indexer,col_indexer] = value instead\n",
      "\n",
      "See the caveats in the documentation: http://pandas.pydata.org/pandas-docs/stable/indexing.html#indexing-view-versus-copy\n",
      "\n"
     ]
    }
   ],
   "source": [
    "dfw[\"p_a\"] = dfw.price/dfw.price.max()"
   ]
  },
  {
   "cell_type": "code",
   "execution_count": null,
   "metadata": {
    "collapsed": true
   },
   "outputs": [],
   "source": []
  },
  {
   "cell_type": "markdown",
   "metadata": {},
   "source": [
    "Score"
   ]
  },
  {
   "cell_type": "code",
   "execution_count": 28,
   "metadata": {
    "collapsed": false,
    "scrolled": true
   },
   "outputs": [
    {
     "name": "stderr",
     "output_type": "stream",
     "text": [
      "C:\\Users\\LENOVO\\AppData\\Local\\Enthought\\Canopy\\User\\lib\\site-packages\\ipykernel\\__main__.py:1: SettingWithCopyWarning:\n",
      "\n",
      "\n",
      "A value is trying to be set on a copy of a slice from a DataFrame.\n",
      "Try using .loc[row_indexer,col_indexer] = value instead\n",
      "\n",
      "See the caveats in the documentation: http://pandas.pydata.org/pandas-docs/stable/indexing.html#indexing-view-versus-copy\n",
      "\n"
     ]
    }
   ],
   "source": [
    "dfw[\"score\"]= 0.7 * (dfw['d_a'] * dfw['p_a']) + (0.3 * dfw['wom'])"
   ]
  },
  {
   "cell_type": "code",
   "execution_count": 29,
   "metadata": {
    "collapsed": false,
    "scrolled": false
   },
   "outputs": [
    {
     "name": "stderr",
     "output_type": "stream",
     "text": [
      "C:\\Users\\LENOVO\\AppData\\Local\\Enthought\\Canopy\\User\\lib\\site-packages\\ipykernel\\__main__.py:1: SettingWithCopyWarning:\n",
      "\n",
      "\n",
      "A value is trying to be set on a copy of a slice from a DataFrame.\n",
      "Try using .loc[row_indexer,col_indexer] = value instead\n",
      "\n",
      "See the caveats in the documentation: http://pandas.pydata.org/pandas-docs/stable/indexing.html#indexing-view-versus-copy\n",
      "\n"
     ]
    }
   ],
   "source": [
    "dfw[\"score1\"]= 0.7*(dfw['d_a']) + 0.3*(dfw['wom'])"
   ]
  },
  {
   "cell_type": "code",
   "execution_count": 35,
   "metadata": {
    "collapsed": false
   },
   "outputs": [
    {
     "data": {
      "text/plain": [
       "age                   int64\n",
       "all_rating          float64\n",
       "all_rating_count      int64\n",
       "app_name             object\n",
       "bundle_id            object\n",
       "date                 object\n",
       "downloads             int64\n",
       "epoch_date            int64\n",
       "file_size           float64\n",
       "genre                object\n",
       "icon_url             object\n",
       "mod_genre            object\n",
       "price               float64\n",
       "price1              float64\n",
       "age_yr              float64\n",
       "Downloads           float64\n",
       "Size                float64\n",
       "Price               float64\n",
       "AvgR                float64\n",
       "Raters              float64\n",
       "stars               float64\n",
       "Stars               float64\n",
       "Age                 float64\n",
       "wom                 float64\n",
       "d_a                 float64\n",
       "p_a                 float64\n",
       "score               float64\n",
       "score1              float64\n",
       "dtype: object"
      ]
     },
     "execution_count": 35,
     "metadata": {},
     "output_type": "execute_result"
    }
   ],
   "source": [
    "dfw.dtypes"
   ]
  },
  {
   "cell_type": "code",
   "execution_count": 36,
   "metadata": {
    "collapsed": true
   },
   "outputs": [],
   "source": [
    "dfw.to_csv('dfweather.csv')"
   ]
  },
  {
   "cell_type": "code",
   "execution_count": 37,
   "metadata": {
    "collapsed": true
   },
   "outputs": [],
   "source": [
    "dfw1=pd.read_csv('dfweather.csv')"
   ]
  },
  {
   "cell_type": "code",
   "execution_count": 79,
   "metadata": {
    "collapsed": true
   },
   "outputs": [],
   "source": [
    "df1=pd.read_csv('dfshopping.csv')"
   ]
  },
  {
   "cell_type": "code",
   "execution_count": 46,
   "metadata": {
    "collapsed": false,
    "scrolled": false
   },
   "outputs": [
    {
     "data": {
      "text/plain": [
       "count    70736.000000\n",
       "mean         1.143223\n",
       "std          0.433085\n",
       "min          0.111393\n",
       "25%          0.836501\n",
       "50%          1.115197\n",
       "75%          1.411174\n",
       "max          3.054037\n",
       "Name: score1, dtype: float64"
      ]
     },
     "execution_count": 46,
     "metadata": {},
     "output_type": "execute_result"
    }
   ],
   "source": [
    "dfg.score1.describe()"
   ]
  },
  {
   "cell_type": "code",
   "execution_count": 54,
   "metadata": {
    "collapsed": false,
    "scrolled": true
   },
   "outputs": [
    {
     "data": {
      "text/plain": [
       "count    70736.000000\n",
       "mean         0.355955\n",
       "std          0.190942\n",
       "min          0.000000\n",
       "25%          0.217810\n",
       "50%          0.322723\n",
       "75%          0.457787\n",
       "max          1.466687\n",
       "Name: score, dtype: float64"
      ]
     },
     "execution_count": 54,
     "metadata": {},
     "output_type": "execute_result"
    }
   ],
   "source": [
    "dfg.score.describe()"
   ]
  },
  {
   "cell_type": "markdown",
   "metadata": {},
   "source": [
    "Genre = Social"
   ]
  },
  {
   "cell_type": "code",
   "execution_count": 30,
   "metadata": {
    "collapsed": true
   },
   "outputs": [],
   "source": [
    "dfs = df[df.mod_genre=='Social Networking']"
   ]
  },
  {
   "cell_type": "code",
   "execution_count": null,
   "metadata": {
    "collapsed": false
   },
   "outputs": [],
   "source": [
    "dfs[\"price_a\"] = dfs.price/dfs.price.max()"
   ]
  },
  {
   "cell_type": "markdown",
   "metadata": {},
   "source": [
    "Score"
   ]
  },
  {
   "cell_type": "code",
   "execution_count": null,
   "metadata": {
    "collapsed": false
   },
   "outputs": [],
   "source": [
    "dfs[\"score\"]= (0.7*(dfs['d_a']*dfs['price_a']) + (0.3*dfs['wom']))"
   ]
  },
  {
   "cell_type": "code",
   "execution_count": null,
   "metadata": {
    "collapsed": false
   },
   "outputs": [],
   "source": [
    "dfs.score.mean()"
   ]
  },
  {
   "cell_type": "code",
   "execution_count": 34,
   "metadata": {
    "collapsed": false
   },
   "outputs": [
    {
     "data": {
      "text/plain": [
       "Index([u'age', u'all_rating', u'all_rating_count', u'app_name', u'bundle_id',\n",
       "       u'date', u'downloads', u'epoch_date', u'file_size', u'genre',\n",
       "       u'icon_url', u'mod_genre', u'price', u'age_yr', u'Downloads', u'Size',\n",
       "       u'price1', u'Price', u'AvgR', u'Raters', u'stars', u'Stars', u'Age',\n",
       "       u'wom', u'd_a', u'p_a', u'score', u'score1'],\n",
       "      dtype='object')"
      ]
     },
     "execution_count": 34,
     "metadata": {},
     "output_type": "execute_result"
    }
   ],
   "source": [
    "dfg.columns"
   ]
  },
  {
   "cell_type": "code",
   "execution_count": 35,
   "metadata": {
    "collapsed": false
   },
   "outputs": [],
   "source": [
    "dfgpca=dfg[['d_a','wom']]"
   ]
  },
  {
   "cell_type": "code",
   "execution_count": 36,
   "metadata": {
    "collapsed": false
   },
   "outputs": [],
   "source": [
    "from sklearn.preprocessing import StandardScaler\n",
    "X_std = StandardScaler().fit_transform(dfgpca)"
   ]
  },
  {
   "cell_type": "code",
   "execution_count": 37,
   "metadata": {
    "collapsed": false
   },
   "outputs": [],
   "source": [
    "from sklearn.decomposition import PCA\n",
    "pca = PCA(n_components=1, whiten=False).fit(X_std)"
   ]
  },
  {
   "cell_type": "code",
   "execution_count": 38,
   "metadata": {
    "collapsed": false
   },
   "outputs": [
    {
     "name": "stdout",
     "output_type": "stream",
     "text": [
      "[[ 0.70710678  0.70710678]]\n"
     ]
    }
   ],
   "source": [
    "print pca.components_"
   ]
  },
  {
   "cell_type": "code",
   "execution_count": 39,
   "metadata": {
    "collapsed": false
   },
   "outputs": [
    {
     "name": "stdout",
     "output_type": "stream",
     "text": [
      "[ 0.92525638]\n",
      "0.925256380965\n"
     ]
    }
   ],
   "source": [
    "print pca.explained_variance_ratio_\n",
    "print sum(pca.explained_variance_ratio_)"
   ]
  },
  {
   "cell_type": "code",
   "execution_count": 40,
   "metadata": {
    "collapsed": false
   },
   "outputs": [
    {
     "data": {
      "text/plain": [
       "array([[ 0.96190248],\n",
       "       [ 0.96190248]])"
      ]
     },
     "execution_count": 40,
     "metadata": {},
     "output_type": "execute_result"
    }
   ],
   "source": [
    "pca.components_.T * math.sqrt(pca.explained_variance_)"
   ]
  },
  {
   "cell_type": "code",
   "execution_count": 50,
   "metadata": {
    "collapsed": false
   },
   "outputs": [
    {
     "data": {
      "text/plain": [
       "444647    3.054037\n",
       "365896    3.020580\n",
       "441793    3.009389\n",
       "12455     2.962303\n",
       "373198    2.954495\n",
       "12402     2.951399\n",
       "454938    2.896263\n",
       "170641    2.892890\n",
       "209454    2.874485\n",
       "214039    2.871160\n",
       "Name: score1, dtype: float64"
      ]
     },
     "execution_count": 50,
     "metadata": {},
     "output_type": "execute_result"
    }
   ],
   "source": [
    "dfg.score1.nlargest(10)"
   ]
  },
  {
   "cell_type": "code",
   "execution_count": 57,
   "metadata": {
    "collapsed": false
   },
   "outputs": [],
   "source": [
    "dfg.to_csv('dfgames.csv')"
   ]
  },
  {
   "cell_type": "code",
   "execution_count": 59,
   "metadata": {
    "collapsed": true
   },
   "outputs": [],
   "source": [
    "dff = pd.read_csv('dfgames.csv')"
   ]
  },
  {
   "cell_type": "code",
   "execution_count": 61,
   "metadata": {
    "collapsed": false
   },
   "outputs": [
    {
     "data": {
      "text/plain": [
       "Unnamed: 0            int64\n",
       "age                   int64\n",
       "all_rating          float64\n",
       "all_rating_count      int64\n",
       "app_name             object\n",
       "bundle_id            object\n",
       "date                 object\n",
       "downloads             int64\n",
       "epoch_date            int64\n",
       "file_size           float64\n",
       "genre                object\n",
       "icon_url             object\n",
       "mod_genre            object\n",
       "price               float64\n",
       "age_yr              float64\n",
       "Downloads           float64\n",
       "Size                float64\n",
       "price1              float64\n",
       "Price               float64\n",
       "AvgR                float64\n",
       "Raters              float64\n",
       "stars               float64\n",
       "Stars               float64\n",
       "Age                 float64\n",
       "wom                 float64\n",
       "d_a                 float64\n",
       "p_a                 float64\n",
       "score               float64\n",
       "score1              float64\n",
       "dtype: object"
      ]
     },
     "execution_count": 61,
     "metadata": {},
     "output_type": "execute_result"
    }
   ],
   "source": [
    "dff.dtypes"
   ]
  },
  {
   "cell_type": "markdown",
   "metadata": {},
   "source": [
    "-------------------------------"
   ]
  },
  {
   "cell_type": "code",
   "execution_count": 2,
   "metadata": {
    "collapsed": false
   },
   "outputs": [
    {
     "name": "stderr",
     "output_type": "stream",
     "text": [
      "C:\\Users\\LENOVO\\AppData\\Local\\Enthought\\Canopy\\User\\lib\\site-packages\\IPython\\core\\interactiveshell.py:2723: DtypeWarning:\n",
      "\n",
      "Columns (0,1,2,3,7,8,9,13,14,15,16,17,18,19,20,21,22,23,24,25,26,27,28) have mixed types. Specify dtype option on import or set low_memory=False.\n",
      "\n"
     ]
    }
   ],
   "source": [
    "data = pd.read_csv(\"final.csv\")"
   ]
  },
  {
   "cell_type": "code",
   "execution_count": 7,
   "metadata": {
    "collapsed": false
   },
   "outputs": [
    {
     "data": {
      "text/plain": [
       "count     476617\n",
       "unique    332717\n",
       "top          0.0\n",
       "freq        5083\n",
       "Name: score, dtype: object"
      ]
     },
     "execution_count": 7,
     "metadata": {},
     "output_type": "execute_result"
    }
   ],
   "source": [
    "data['score'].describe()"
   ]
  },
  {
   "cell_type": "code",
   "execution_count": 11,
   "metadata": {
    "collapsed": false
   },
   "outputs": [
    {
     "data": {
      "text/plain": [
       "Unnamed: 0          object\n",
       "age                 object\n",
       "all_rating          object\n",
       "all_rating_count    object\n",
       "app_name            object\n",
       "bundle_id           object\n",
       "date                object\n",
       "downloads           object\n",
       "epoch_date          object\n",
       "file_size           object\n",
       "genre               object\n",
       "icon_url            object\n",
       "mod_genre           object\n",
       "price               object\n",
       "age_yr              object\n",
       "Downloads           object\n",
       "Size                object\n",
       "price1              object\n",
       "Price               object\n",
       "AvgR                object\n",
       "Raters              object\n",
       "stars               object\n",
       "Stars               object\n",
       "Age                 object\n",
       "wom                 object\n",
       "d_a                 object\n",
       "p_a                 object\n",
       "score               object\n",
       "score1              object\n",
       "dtype: object"
      ]
     },
     "execution_count": 11,
     "metadata": {},
     "output_type": "execute_result"
    }
   ],
   "source": []
  },
  {
   "cell_type": "code",
   "execution_count": 9,
   "metadata": {
    "collapsed": false
   },
   "outputs": [
    {
     "data": {
      "text/plain": [
       "count             476617\n",
       "unique            344988\n",
       "top       0.542555386872\n",
       "freq                  71\n",
       "Name: score1, dtype: object"
      ]
     },
     "execution_count": 9,
     "metadata": {},
     "output_type": "execute_result"
    }
   ],
   "source": [
    "data.score1.describe()"
   ]
  },
  {
   "cell_type": "code",
   "execution_count": 6,
   "metadata": {
    "collapsed": false
   },
   "outputs": [
    {
     "data": {
      "text/plain": [
       "Index([u'Unnamed: 0', u'age', u'all_rating', u'all_rating_count', u'app_name',\n",
       "       u'bundle_id', u'date', u'downloads', u'epoch_date', u'file_size',\n",
       "       u'genre', u'icon_url', u'mod_genre', u'price', u'age_yr', u'Downloads',\n",
       "       u'Size', u'price1', u'Price', u'AvgR', u'Raters', u'stars', u'Stars',\n",
       "       u'Age', u'wom', u'd_a', u'p_a', u'score', u'score1'],\n",
       "      dtype='object')"
      ]
     },
     "execution_count": 6,
     "metadata": {},
     "output_type": "execute_result"
    }
   ],
   "source": [
    "data.columns"
   ]
  },
  {
   "cell_type": "code",
   "execution_count": 41,
   "metadata": {
    "collapsed": false
   },
   "outputs": [],
   "source": [
    "fout=open(\"G:\\SCU Class materials\\Capstone\\dfs\\\\finalout.csv\",\"a\")\n",
    "for num in range(1,21):\n",
    "    for line in open(\"G:\\SCU Class materials\\Capstone\\dfs\\df\"+str(num)+\".csv\"):\n",
    "         fout.write(line)\n",
    "fout.close()"
   ]
  },
  {
   "cell_type": "code",
   "execution_count": 17,
   "metadata": {
    "collapsed": false
   },
   "outputs": [],
   "source": [
    "data1 = pd.read_csv('final1.csv',low_memory=False)"
   ]
  },
  {
   "cell_type": "code",
   "execution_count": 18,
   "metadata": {
    "collapsed": false
   },
   "outputs": [
    {
     "data": {
      "text/plain": [
       "476616"
      ]
     },
     "execution_count": 18,
     "metadata": {},
     "output_type": "execute_result"
    }
   ],
   "source": [
    "len(data1)"
   ]
  },
  {
   "cell_type": "code",
   "execution_count": 19,
   "metadata": {
    "collapsed": false
   },
   "outputs": [
    {
     "data": {
      "text/plain": [
       "age                 object\n",
       "all_rating          object\n",
       "all_rating_count    object\n",
       "app_name            object\n",
       "bundle_id           object\n",
       "date                object\n",
       "downloads           object\n",
       "epoch_date          object\n",
       "file_size           object\n",
       "genre               object\n",
       "icon_url            object\n",
       "mod_genre           object\n",
       "price               object\n",
       "age_yr              object\n",
       "Downloads           object\n",
       "Size                object\n",
       "price1              object\n",
       "Price               object\n",
       "AvgR                object\n",
       "Raters              object\n",
       "stars               object\n",
       "Stars               object\n",
       "Age                 object\n",
       "wom                 object\n",
       "d_a                 object\n",
       "p_a                 object\n",
       "score               object\n",
       "score1              object\n",
       "dtype: object"
      ]
     },
     "execution_count": 19,
     "metadata": {},
     "output_type": "execute_result"
    }
   ],
   "source": [
    "data1.dtypes"
   ]
  },
  {
   "cell_type": "code",
   "execution_count": null,
   "metadata": {
    "collapsed": true
   },
   "outputs": [],
   "source": []
  }
 ],
 "metadata": {
  "kernelspec": {
   "display_name": "Python 2",
   "language": "python",
   "name": "python2"
  },
  "language_info": {
   "codemirror_mode": {
    "name": "ipython",
    "version": 2
   },
   "file_extension": ".py",
   "mimetype": "text/x-python",
   "name": "python",
   "nbconvert_exporter": "python",
   "pygments_lexer": "ipython2",
   "version": "2.7.11"
  }
 },
 "nbformat": 4,
 "nbformat_minor": 0
}
